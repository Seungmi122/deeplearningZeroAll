{
 "cells": [
  {
   "cell_type": "code",
   "execution_count": 1,
   "metadata": {},
   "outputs": [],
   "source": [
    "import tensorflow as tf\n",
    "import numpy as np\n",
    "import matplotlib.pyplot as plt\n",
    "from tensorflow import keras\n",
    "\n",
    "tf.set_random_seed(777)"
   ]
  },
  {
   "cell_type": "code",
   "execution_count": 2,
   "metadata": {},
   "outputs": [],
   "source": [
    "imdb = keras.datasets.imdb"
   ]
  },
  {
   "cell_type": "code",
   "execution_count": 45,
   "metadata": {
    "scrolled": true
   },
   "outputs": [
    {
     "name": "stdout",
     "output_type": "stream",
     "text": [
      "Training entries: 25000, labels: 25000\n",
      "[1, 14, 22, 16, 43, 530, 973, 1622, 1385, 65, 458, 4468, 66, 3941, 4, 173, 36, 256, 5, 25, 100, 43, 838, 112, 50, 670, 2, 9, 35, 480, 284, 5, 150, 4, 172, 112, 167, 2, 336, 385, 39, 4, 172, 4536, 1111, 17, 546, 38, 13, 447, 4, 192, 50, 16, 6, 147, 2025, 19, 14, 22, 4, 1920, 4613, 469, 4, 22, 71, 87, 12, 16, 43, 530, 38, 76, 15, 13, 1247, 4, 22, 17, 515, 17, 12, 16, 626, 18, 2, 5, 62, 386, 12, 8, 316, 8, 106, 5, 4, 2223, 5244, 16, 480, 66, 3785, 33, 4, 130, 12, 16, 38, 619, 5, 25, 124, 51, 36, 135, 48, 25, 1415, 33, 6, 22, 12, 215, 28, 77, 52, 5, 14, 407, 16, 82, 2, 8, 4, 107, 117, 5952, 15, 256, 4, 2, 7, 3766, 5, 723, 36, 71, 43, 530, 476, 26, 400, 317, 46, 7, 4, 2, 1029, 13, 104, 88, 4, 381, 15, 297, 98, 32, 2071, 56, 26, 141, 6, 194, 7486, 18, 4, 226, 22, 21, 134, 476, 26, 480, 5, 144, 30, 5535, 18, 51, 36, 28, 224, 92, 25, 104, 4, 226, 65, 16, 38, 1334, 88, 12, 16, 283, 5, 16, 4472, 113, 103, 32, 15, 16, 5345, 19, 178, 32]\n"
     ]
    }
   ],
   "source": [
    "(train_data, train_labels), (test_data, test_labels) = imdb.load_data(num_words=10000)\n",
    "print(\"Training entries: {}, labels: {}\".format(len(train_data), len(train_labels)))\n",
    "print(train_data[0])"
   ]
  },
  {
   "cell_type": "code",
   "execution_count": 47,
   "metadata": {},
   "outputs": [
    {
     "data": {
      "text/plain": [
       "array([1, 0, 0, 1, 0])"
      ]
     },
     "execution_count": 47,
     "metadata": {},
     "output_type": "execute_result"
    }
   ],
   "source": [
    "train_labels[0:5]\n",
    "# positive or negative review"
   ]
  },
  {
   "cell_type": "code",
   "execution_count": 5,
   "metadata": {},
   "outputs": [
    {
     "name": "stdout",
     "output_type": "stream",
     "text": [
      "Downloading data from https://storage.googleapis.com/tensorflow/tf-keras-datasets/imdb_word_index.json\n",
      "1646592/1641221 [==============================] - 1s 0us/step\n"
     ]
    }
   ],
   "source": [
    "word_index = imdb.get_word_index()"
   ]
  },
  {
   "cell_type": "code",
   "execution_count": 30,
   "metadata": {},
   "outputs": [],
   "source": [
    "# NLP는 전처리가 굉장히 중요"
   ]
  },
  {
   "cell_type": "code",
   "execution_count": 7,
   "metadata": {},
   "outputs": [],
   "source": [
    "word_index = {k:(v+3) for k,v in word_index.items()}\n",
    "word_index['<PAD>'] = 0\n",
    "word_index['<START>'] = 1\n",
    "word_index['<UNK>'] = 2\n",
    "word_index['<UNUSED>'] = 3"
   ]
  },
  {
   "cell_type": "code",
   "execution_count": 9,
   "metadata": {},
   "outputs": [],
   "source": [
    "reverse_word_index = dict([(value, key) for (key, value) in word_index.items()])"
   ]
  },
  {
   "cell_type": "code",
   "execution_count": 13,
   "metadata": {
    "scrolled": true
   },
   "outputs": [
    {
     "data": {
      "text/plain": [
       "\"<START> yet road the time seen of of br describe in as more be influence that beginning other br express mysterious or connected br see much out earth weird br i budget fan budget ship made go ? with he wasn't the time until their roy ? br i better genuinely yet many yet whole yet as br you show two br 4 and cannot time lost more couldn't ? system that all parts don't turn violence ? film where say other is piece al some entertainment eventual time lost to br provides it al as to ? <UNK> ? main is pleased ? it piece off were far simply original show interesting is age together caused week the regret ? town battle like and much little it james br effort film connected that new director go was in ? abandon ? family tv the time seen\""
      ]
     },
     "execution_count": 13,
     "metadata": {},
     "output_type": "execute_result"
    }
   ],
   "source": [
    "def decode_review(text):\n",
    "    return ' '.join([reverse_word_index.get(i, '?') for i in text])\n",
    "# ? for things cannot be found\n",
    "decode_review(train_data[4])"
   ]
  },
  {
   "cell_type": "code",
   "execution_count": 29,
   "metadata": {},
   "outputs": [
    {
     "name": "stdout",
     "output_type": "stream",
     "text": [
      "0\n"
     ]
    }
   ],
   "source": [
    "print(train_labels[4])"
   ]
  },
  {
   "cell_type": "code",
   "execution_count": 31,
   "metadata": {},
   "outputs": [],
   "source": [
    "# modeling"
   ]
  },
  {
   "cell_type": "code",
   "execution_count": 33,
   "metadata": {},
   "outputs": [
    {
     "name": "stdout",
     "output_type": "stream",
     "text": [
      "256 256\n",
      "[   1   14   22   16   43  530  973 1622 1385   65  458 4468   66 3941\n",
      "    4  173   36  256    5   25  100   43  838  112   50  670    2    9\n",
      "   35  480  284    5  150    4  172  112  167    2  336  385   39    4\n",
      "  172 4536 1111   17  546   38   13  447    4  192   50   16    6  147\n",
      " 2025   19   14   22    4 1920 4613  469    4   22   71   87   12   16\n",
      "   43  530   38   76   15   13 1247    4   22   17  515   17   12   16\n",
      "  626   18    2    5   62  386   12    8  316    8  106    5    4 2223\n",
      " 5244   16  480   66 3785   33    4  130   12   16   38  619    5   25\n",
      "  124   51   36  135   48   25 1415   33    6   22   12  215   28   77\n",
      "   52    5   14  407   16   82    2    8    4  107  117 5952   15  256\n",
      "    4    2    7 3766    5  723   36   71   43  530  476   26  400  317\n",
      "   46    7    4    2 1029   13  104   88    4  381   15  297   98   32\n",
      " 2071   56   26  141    6  194 7486   18    4  226   22   21  134  476\n",
      "   26  480    5  144   30 5535   18   51   36   28  224   92   25  104\n",
      "    4  226   65   16   38 1334   88   12   16  283    5   16 4472  113\n",
      "  103   32   15   16 5345   19  178   32    0    0    0    0    0    0\n",
      "    0    0    0    0    0    0    0    0    0    0    0    0    0    0\n",
      "    0    0    0    0    0    0    0    0    0    0    0    0    0    0\n",
      "    0    0    0    0]\n"
     ]
    }
   ],
   "source": [
    "train_data = keras.preprocessing.sequence.pad_sequences(train_data,\n",
    "                                                      value = word_index[\"<PAD>\"],\n",
    "                                                      padding = 'post',\n",
    "                                                      maxlen = 256)\n",
    "test_data = keras.preprocessing.sequence.pad_sequences(test_data,\n",
    "                                                      value = word_index[\"<PAD>\"],\n",
    "                                                      padding = 'post',\n",
    "                                                      maxlen = 256)\n",
    "print(len(train_data[0]), len(test_data[0]))\n",
    "print(train_data[0])"
   ]
  },
  {
   "cell_type": "code",
   "execution_count": 38,
   "metadata": {},
   "outputs": [
    {
     "name": "stderr",
     "output_type": "stream",
     "text": [
      "W0911 00:44:54.666769 4370601408 deprecation.py:506] From /Users/seungmi/anaconda3/lib/python3.7/site-packages/tensorflow/python/ops/init_ops.py:1251: calling VarianceScaling.__init__ (from tensorflow.python.ops.init_ops) with dtype is deprecated and will be removed in a future version.\n",
      "Instructions for updating:\n",
      "Call initializer instance with the dtype argument instead of passing it to the constructor\n"
     ]
    },
    {
     "name": "stdout",
     "output_type": "stream",
     "text": [
      "Model: \"sequential_1\"\n",
      "_________________________________________________________________\n",
      "Layer (type)                 Output Shape              Param #   \n",
      "=================================================================\n",
      "embedding_1 (Embedding)      (None, None, 16)          160000    \n",
      "_________________________________________________________________\n",
      "global_average_pooling1d (Gl (None, 16)                0         \n",
      "_________________________________________________________________\n",
      "dense (Dense)                (None, 16)                272       \n",
      "_________________________________________________________________\n",
      "dense_1 (Dense)              (None, 1)                 17        \n",
      "=================================================================\n",
      "Total params: 160,289\n",
      "Trainable params: 160,289\n",
      "Non-trainable params: 0\n",
      "_________________________________________________________________\n"
     ]
    }
   ],
   "source": [
    "vocab_size = 10000\n",
    "\n",
    "model = keras.Sequential()\n",
    "model.add(keras.layers.Embedding(vocab_size, 16))\n",
    "model.add(keras.layers.GlobalAveragePooling1D())\n",
    "#relu 완전 연결층\n",
    "model.add(keras.layers.Dense(16, activation = tf.nn.relu))\n",
    "model.add(keras.layers.Dense(1, activation = tf.nn.sigmoid))\n",
    "\n",
    "model.summary()"
   ]
  },
  {
   "cell_type": "code",
   "execution_count": 39,
   "metadata": {},
   "outputs": [
    {
     "name": "stderr",
     "output_type": "stream",
     "text": [
      "W0911 01:02:50.624387 4370601408 deprecation.py:323] From /Users/seungmi/anaconda3/lib/python3.7/site-packages/tensorflow/python/ops/nn_impl.py:180: add_dispatch_support.<locals>.wrapper (from tensorflow.python.ops.array_ops) is deprecated and will be removed in a future version.\n",
      "Instructions for updating:\n",
      "Use tf.where in 2.0, which has the same broadcast rule as np.where\n"
     ]
    }
   ],
   "source": [
    "model.compile(optimizer = 'adam',\n",
    "             loss = 'binary_crossentropy',\n",
    "             metrics = ['accuracy'])"
   ]
  },
  {
   "cell_type": "code",
   "execution_count": 41,
   "metadata": {},
   "outputs": [
    {
     "name": "stdout",
     "output_type": "stream",
     "text": [
      "Train on 15000 samples, validate on 10000 samples\n",
      "Epoch 1/40\n",
      "15000/15000 [==============================] - 0s 30us/sample - loss: 0.6921 - acc: 0.5373 - val_loss: 0.6907 - val_acc: 0.5591\n",
      "Epoch 2/40\n",
      "15000/15000 [==============================] - 0s 16us/sample - loss: 0.6876 - acc: 0.6797 - val_loss: 0.6840 - val_acc: 0.7254\n",
      "Epoch 3/40\n",
      "15000/15000 [==============================] - 0s 17us/sample - loss: 0.6764 - acc: 0.7473 - val_loss: 0.6691 - val_acc: 0.7549\n",
      "Epoch 4/40\n",
      "15000/15000 [==============================] - 0s 17us/sample - loss: 0.6546 - acc: 0.7527 - val_loss: 0.6432 - val_acc: 0.7545\n",
      "Epoch 5/40\n",
      "15000/15000 [==============================] - 0s 17us/sample - loss: 0.6203 - acc: 0.7883 - val_loss: 0.6065 - val_acc: 0.7823\n",
      "Epoch 6/40\n",
      "15000/15000 [==============================] - 0s 17us/sample - loss: 0.5753 - acc: 0.8087 - val_loss: 0.5628 - val_acc: 0.8002\n",
      "Epoch 7/40\n",
      "15000/15000 [==============================] - 0s 16us/sample - loss: 0.5246 - acc: 0.8259 - val_loss: 0.5152 - val_acc: 0.8196\n",
      "Epoch 8/40\n",
      "15000/15000 [==============================] - 0s 16us/sample - loss: 0.4740 - acc: 0.8446 - val_loss: 0.4717 - val_acc: 0.8336\n",
      "Epoch 9/40\n",
      "15000/15000 [==============================] - 0s 17us/sample - loss: 0.4278 - acc: 0.8607 - val_loss: 0.4335 - val_acc: 0.8446\n",
      "Epoch 10/40\n",
      "15000/15000 [==============================] - 0s 17us/sample - loss: 0.3879 - acc: 0.8743 - val_loss: 0.4028 - val_acc: 0.8522\n",
      "Epoch 11/40\n",
      "15000/15000 [==============================] - 0s 16us/sample - loss: 0.3548 - acc: 0.8827 - val_loss: 0.3779 - val_acc: 0.8599\n",
      "Epoch 12/40\n",
      "15000/15000 [==============================] - 0s 16us/sample - loss: 0.3273 - acc: 0.8895 - val_loss: 0.3592 - val_acc: 0.8638\n",
      "Epoch 13/40\n",
      "15000/15000 [==============================] - 0s 16us/sample - loss: 0.3050 - acc: 0.8972 - val_loss: 0.3430 - val_acc: 0.8700\n",
      "Epoch 14/40\n",
      "15000/15000 [==============================] - 0s 16us/sample - loss: 0.2851 - acc: 0.9019 - val_loss: 0.3312 - val_acc: 0.8736\n",
      "Epoch 15/40\n",
      "15000/15000 [==============================] - 0s 16us/sample - loss: 0.2685 - acc: 0.9077 - val_loss: 0.3216 - val_acc: 0.8750\n",
      "Epoch 16/40\n",
      "15000/15000 [==============================] - 0s 16us/sample - loss: 0.2536 - acc: 0.9123 - val_loss: 0.3137 - val_acc: 0.8754\n",
      "Epoch 17/40\n",
      "15000/15000 [==============================] - 0s 17us/sample - loss: 0.2398 - acc: 0.9171 - val_loss: 0.3071 - val_acc: 0.8794\n",
      "Epoch 18/40\n",
      "15000/15000 [==============================] - 0s 16us/sample - loss: 0.2276 - acc: 0.9214 - val_loss: 0.3016 - val_acc: 0.8816\n",
      "Epoch 19/40\n",
      "15000/15000 [==============================] - 0s 16us/sample - loss: 0.2165 - acc: 0.9239 - val_loss: 0.2970 - val_acc: 0.8820\n",
      "Epoch 20/40\n",
      "15000/15000 [==============================] - 0s 16us/sample - loss: 0.2066 - acc: 0.9277 - val_loss: 0.2939 - val_acc: 0.8824\n",
      "Epoch 21/40\n",
      "15000/15000 [==============================] - 0s 16us/sample - loss: 0.1964 - acc: 0.9335 - val_loss: 0.2913 - val_acc: 0.8835\n",
      "Epoch 22/40\n",
      "15000/15000 [==============================] - 0s 17us/sample - loss: 0.1879 - acc: 0.9370 - val_loss: 0.2890 - val_acc: 0.8843\n",
      "Epoch 23/40\n",
      "15000/15000 [==============================] - 0s 17us/sample - loss: 0.1793 - acc: 0.9412 - val_loss: 0.2885 - val_acc: 0.8836\n",
      "Epoch 24/40\n",
      "15000/15000 [==============================] - 0s 17us/sample - loss: 0.1719 - acc: 0.9444 - val_loss: 0.2872 - val_acc: 0.8849\n",
      "Epoch 25/40\n",
      "15000/15000 [==============================] - 0s 17us/sample - loss: 0.1643 - acc: 0.9476 - val_loss: 0.2860 - val_acc: 0.8860\n",
      "Epoch 26/40\n",
      "15000/15000 [==============================] - 0s 16us/sample - loss: 0.1575 - acc: 0.9501 - val_loss: 0.2870 - val_acc: 0.8834\n",
      "Epoch 27/40\n",
      "15000/15000 [==============================] - 0s 18us/sample - loss: 0.1511 - acc: 0.9525 - val_loss: 0.2867 - val_acc: 0.8845\n",
      "Epoch 28/40\n",
      "15000/15000 [==============================] - 0s 18us/sample - loss: 0.1450 - acc: 0.9557 - val_loss: 0.2877 - val_acc: 0.8857\n",
      "Epoch 29/40\n",
      "15000/15000 [==============================] - 0s 18us/sample - loss: 0.1396 - acc: 0.9582 - val_loss: 0.2895 - val_acc: 0.8839\n",
      "Epoch 30/40\n",
      "15000/15000 [==============================] - 0s 18us/sample - loss: 0.1339 - acc: 0.9596 - val_loss: 0.2891 - val_acc: 0.8860\n",
      "Epoch 31/40\n",
      "15000/15000 [==============================] - 0s 18us/sample - loss: 0.1281 - acc: 0.9622 - val_loss: 0.2905 - val_acc: 0.8858\n",
      "Epoch 32/40\n",
      "15000/15000 [==============================] - 0s 18us/sample - loss: 0.1230 - acc: 0.9653 - val_loss: 0.2922 - val_acc: 0.8857\n",
      "Epoch 33/40\n",
      "15000/15000 [==============================] - 0s 17us/sample - loss: 0.1181 - acc: 0.9670 - val_loss: 0.2948 - val_acc: 0.8854\n",
      "Epoch 34/40\n",
      "15000/15000 [==============================] - 0s 16us/sample - loss: 0.1136 - acc: 0.9678 - val_loss: 0.2973 - val_acc: 0.8838\n",
      "Epoch 35/40\n",
      "15000/15000 [==============================] - 0s 17us/sample - loss: 0.1095 - acc: 0.9687 - val_loss: 0.3001 - val_acc: 0.8850\n",
      "Epoch 36/40\n",
      "15000/15000 [==============================] - 0s 17us/sample - loss: 0.1051 - acc: 0.9712 - val_loss: 0.3020 - val_acc: 0.8841\n",
      "Epoch 37/40\n",
      "15000/15000 [==============================] - 0s 17us/sample - loss: 0.1008 - acc: 0.9727 - val_loss: 0.3050 - val_acc: 0.8835\n",
      "Epoch 38/40\n",
      "15000/15000 [==============================] - 0s 16us/sample - loss: 0.0969 - acc: 0.9741 - val_loss: 0.3090 - val_acc: 0.8827\n",
      "Epoch 39/40\n",
      "15000/15000 [==============================] - 0s 16us/sample - loss: 0.0937 - acc: 0.9755 - val_loss: 0.3130 - val_acc: 0.8814\n",
      "Epoch 40/40\n",
      "15000/15000 [==============================] - 0s 16us/sample - loss: 0.0896 - acc: 0.9771 - val_loss: 0.3162 - val_acc: 0.8817\n"
     ]
    }
   ],
   "source": [
    "x_val = train_data[:10000]\n",
    "partial_x_train = train_data[10000:]\n",
    "\n",
    "y_val = train_labels[:10000]\n",
    "partial_y_train = train_labels[10000:]\n",
    "\n",
    "history = model.fit(partial_x_train,\n",
    "                   partial_y_train,\n",
    "                   epochs=40,\n",
    "                   batch_size=512,\n",
    "                   validation_data=(x_val, y_val),\n",
    "                   verbose=1)"
   ]
  },
  {
   "cell_type": "code",
   "execution_count": 43,
   "metadata": {},
   "outputs": [
    {
     "name": "stdout",
     "output_type": "stream",
     "text": [
      "25000/25000 [==============================] - 0s 14us/sample - loss: 0.3380 - acc: 0.8707\n",
      "[0.33795646896839143, 0.87068]\n"
     ]
    }
   ],
   "source": [
    "result = model.evaluate(test_data, test_labels)\n",
    "print(result)"
   ]
  },
  {
   "cell_type": "code",
   "execution_count": null,
   "metadata": {},
   "outputs": [],
   "source": []
  }
 ],
 "metadata": {
  "kernelspec": {
   "display_name": "Python 3",
   "language": "python",
   "name": "python3"
  },
  "language_info": {
   "codemirror_mode": {
    "name": "ipython",
    "version": 3
   },
   "file_extension": ".py",
   "mimetype": "text/x-python",
   "name": "python",
   "nbconvert_exporter": "python",
   "pygments_lexer": "ipython3",
   "version": "3.7.3"
  }
 },
 "nbformat": 4,
 "nbformat_minor": 2
}
